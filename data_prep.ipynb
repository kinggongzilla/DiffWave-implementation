{
 "cells": [
  {
   "cell_type": "code",
   "execution_count": 1,
   "id": "6209bfa3",
   "metadata": {},
   "outputs": [
    {
     "name": "stderr",
     "output_type": "stream",
     "text": [
      "c:\\Users\\hause\\miniconda3\\envs\\practical_work\\lib\\site-packages\\pydub\\utils.py:170: RuntimeWarning: Couldn't find ffmpeg or avconv - defaulting to ffmpeg, but may not work\n",
      "  warn(\"Couldn't find ffmpeg or avconv - defaulting to ffmpeg, but may not work\", RuntimeWarning)\n"
     ]
    }
   ],
   "source": [
    "import os\n",
    "import torch\n",
    "from torch.utils.data import Dataset\n",
    "import torchaudio\n",
    "import soundfile\n",
    "import matplotlib.pyplot as plt\n",
    "import numpy as np\n",
    "from pydub import AudioSegment"
   ]
  },
  {
   "cell_type": "code",
   "execution_count": 36,
   "id": "6f73731d",
   "metadata": {},
   "outputs": [],
   "source": [
    "class ChunkedMusDBHQ(Dataset):\n",
    "\n",
    "    def __init__(self, audio_dir) -> None:\n",
    "        self.audio_dir = audio_dir\n",
    "\n",
    "    def __len__(self):\n",
    "        count = 0\n",
    "        # Iterate directory\n",
    "        for path in os.listdir(self.audio_dir):\n",
    "            # check if current path is a file\n",
    "            if os.path.isfile(os.path.join(self.audio_dir, path)):\n",
    "                count += 1\n",
    "        return count\n",
    "\n",
    "    def __getitem__(self, index):\n",
    "        file = os.listdir(self.audio_dir)[index]\n",
    "        waveform, sample_rate = torchaudio.load(self.audio_dir + file)\n",
    "        return waveform, sample_rate"
   ]
  },
  {
   "cell_type": "code",
   "execution_count": null,
   "id": "5f3311b9",
   "metadata": {},
   "outputs": [],
   "source": []
  },
  {
   "cell_type": "code",
   "execution_count": 60,
   "id": "246f12e2",
   "metadata": {},
   "outputs": [],
   "source": [
    "chunked_data = ChunkedMusDBHQ(audio_dir='data/chunked_audio/')\n",
    "\n",
    "trainloader = torch.utils.data.DataLoader(\n",
    "    chunked_data,\n",
    "    batch_size=2,\n",
    "    shuffle=True,\n",
    "    )"
   ]
  },
  {
   "cell_type": "code",
   "execution_count": null,
   "id": "6f2ac3c9",
   "metadata": {},
   "outputs": [],
   "source": []
  },
  {
   "cell_type": "code",
   "execution_count": 2,
   "id": "ef93be98",
   "metadata": {},
   "outputs": [],
   "source": [
    "musdb_train = torchaudio.datasets.MUSDB_HQ(\n",
    "    root=\"data\", \n",
    "    download=True,\n",
    "    subset='train',\n",
    "    sources=['mixture'])"
   ]
  },
  {
   "cell_type": "code",
   "execution_count": 3,
   "id": "01b05dfb",
   "metadata": {},
   "outputs": [],
   "source": [
    "trainloader = torch.utils.data.DataLoader(\n",
    "    musdb_train,\n",
    "    batch_size=1,\n",
    "    shuffle=True,\n",
    "    )"
   ]
  },
  {
   "cell_type": "code",
   "execution_count": 63,
   "id": "bfdfaad1",
   "metadata": {},
   "outputs": [],
   "source": [
    "sample = next(iter(trainloader))"
   ]
  },
  {
   "cell_type": "code",
   "execution_count": 64,
   "id": "a55dc2f8",
   "metadata": {},
   "outputs": [
    {
     "data": {
      "text/plain": [
       "('Music Delta - Rockabilly',)"
      ]
     },
     "execution_count": 64,
     "metadata": {},
     "output_type": "execute_result"
    }
   ],
   "source": [
    "waveform = sample[0]\n",
    "sample_rate = sample[1]\n",
    "track_name = sample[3]\n",
    "track_name"
   ]
  },
  {
   "cell_type": "code",
   "execution_count": 65,
   "id": "3a183262",
   "metadata": {},
   "outputs": [
    {
     "data": {
      "text/plain": [
       "torch.Size([1, 2, 1144358])"
      ]
     },
     "execution_count": 65,
     "metadata": {},
     "output_type": "execute_result"
    }
   ],
   "source": [
    "sample[0][0].shape"
   ]
  },
  {
   "cell_type": "code",
   "execution_count": 7,
   "id": "410ebbd2",
   "metadata": {},
   "outputs": [],
   "source": []
  },
  {
   "cell_type": "code",
   "execution_count": 26,
   "id": "34a8b3e2",
   "metadata": {},
   "outputs": [],
   "source": [
    "#load data of one song and split it into 5 second chunks\n",
    "path = os.path.join('data','musdb18hq','train','A Classic Education - NightOwl','mixture.wav')\n",
    "audio = AudioSegment.from_wav(path)\n",
    "\n",
    "n_iters = int(len(audio) / 5000)\n",
    "\n",
    "start = 0\n",
    "end = 5000\n",
    "\n",
    "for i in range(n_iters):\n",
    "    newAudio = audio[start:end]\n",
    "    newAudio.export('A Classic Education - NightOwl_{0}.wav'.format(start), format=\"wav\")\n",
    "    start += 5000\n",
    "    end += 5000\n"
   ]
  },
  {
   "cell_type": "code",
   "execution_count": null,
   "id": "aafcdd30",
   "metadata": {},
   "outputs": [],
   "source": []
  },
  {
   "cell_type": "code",
   "execution_count": null,
   "id": "dfe1717d",
   "metadata": {},
   "outputs": [],
   "source": []
  }
 ],
 "metadata": {
  "kernelspec": {
   "display_name": "practical_work",
   "language": "python",
   "name": "python3"
  },
  "language_info": {
   "codemirror_mode": {
    "name": "ipython",
    "version": 3
   },
   "file_extension": ".py",
   "mimetype": "text/x-python",
   "name": "python",
   "nbconvert_exporter": "python",
   "pygments_lexer": "ipython3",
   "version": "3.10.8"
  },
  "vscode": {
   "interpreter": {
    "hash": "8b3bd52304cf4f8503640a78f39433e8f3f957e5a2223726550e53c8c8975ff4"
   }
  }
 },
 "nbformat": 4,
 "nbformat_minor": 5
}
