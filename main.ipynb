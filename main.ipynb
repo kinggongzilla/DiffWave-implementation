{
 "cells": [
  {
   "cell_type": "code",
   "execution_count": 1,
   "id": "f2c0d3e7",
   "metadata": {},
   "outputs": [
    {
     "name": "stderr",
     "output_type": "stream",
     "text": [
      "c:\\Users\\hause\\miniconda3\\envs\\practical_work\\lib\\site-packages\\pydub\\utils.py:170: RuntimeWarning: Couldn't find ffmpeg or avconv - defaulting to ffmpeg, but may not work\n",
      "  warn(\"Couldn't find ffmpeg or avconv - defaulting to ffmpeg, but may not work\", RuntimeWarning)\n"
     ]
    }
   ],
   "source": [
    "import os\n",
    "import sys\n",
    "import torch\n",
    "import torch.nn.functional as F\n",
    "from torch.utils.data import Dataset\n",
    "import torchaudio\n",
    "import soundfile\n",
    "import matplotlib.pyplot as plt\n",
    "import numpy as np\n",
    "from pydub import AudioSegment\n",
    "\n",
    "module_path = os.path.abspath(os.path.join('./source/'))\n",
    "if module_path not in sys.path:\n",
    "    sys.path.append(module_path)\n",
    "\n",
    "from model import DiffWave\n",
    "from dataset import ChunkedMusDBHQ\n",
    "from train import train"
   ]
  },
  {
   "cell_type": "code",
   "execution_count": 2,
   "id": "3f986c95",
   "metadata": {},
   "outputs": [],
   "source": [
    "chunked_data = ChunkedMusDBHQ(audio_dir='data/chunked_audio/')\n",
    "\n",
    "trainloader = torch.utils.data.DataLoader(\n",
    "    chunked_data,\n",
    "    batch_size=2,\n",
    "    shuffle=True,\n",
    "    )"
   ]
  },
  {
   "cell_type": "code",
   "execution_count": 3,
   "id": "b99b690d",
   "metadata": {},
   "outputs": [
    {
     "name": "stdout",
     "output_type": "stream",
     "text": [
      "tensor([0.0010, 0.0020, 0.0030, 0.0040, 0.0050, 0.0060, 0.0070, 0.0080, 0.0090,\n",
      "        0.0100, 0.0110, 0.0120, 0.0130, 0.0140, 0.0150, 0.0160, 0.0170, 0.0180,\n",
      "        0.0190, 0.0200, 0.0210, 0.0220, 0.0230, 0.0240, 0.0250, 0.0260, 0.0270,\n",
      "        0.0280, 0.0290, 0.0300, 0.0310, 0.0320, 0.0330, 0.0340, 0.0350, 0.0360,\n",
      "        0.0370, 0.0380, 0.0390, 0.0400, 0.0410, 0.0420, 0.0430, 0.0440, 0.0450,\n",
      "        0.0460, 0.0470, 0.0480, 0.0490, 0.0500])\n"
     ]
    }
   ],
   "source": [
    "variance_schedule = torch.linspace(0.001, 0.05, 50)\n",
    "print(variance_schedule)"
   ]
  },
  {
   "cell_type": "code",
   "execution_count": 4,
   "id": "dfd0755b",
   "metadata": {},
   "outputs": [
    {
     "name": "stdout",
     "output_type": "stream",
     "text": [
      "epoch: 0 | batch: 0 | loss: 0.4485573172569275\n",
      "epoch: 0 | batch: 5 | loss: 0.7986760139465332\n",
      "epoch: 0 | batch: 10 | loss: 0.26053935289382935\n",
      "epoch: 0 | batch: 15 | loss: 0.18985752761363983\n",
      "Epoch 0 DONE!\n"
     ]
    }
   ],
   "source": [
    "\n",
    "model = train(8, 4, trainloader, 1, len(variance_schedule), variance_schedule) #C, num_blocks, trainloader, epochs, timesteps, variance_schedule"
   ]
  },
  {
   "cell_type": "code",
   "execution_count": 5,
   "metadata": {},
   "outputs": [],
   "source": [
    "x_t = torch.randn(1, 1, 220500)\n",
    "sample = model.sample(x_t)"
   ]
  },
  {
   "cell_type": "code",
   "execution_count": null,
   "id": "6e27a5fe",
   "metadata": {},
   "outputs": [],
   "source": []
  },
  {
   "cell_type": "code",
   "execution_count": null,
   "id": "b95d5444",
   "metadata": {},
   "outputs": [],
   "source": []
  },
  {
   "cell_type": "code",
   "execution_count": null,
   "id": "e9a5da88",
   "metadata": {},
   "outputs": [],
   "source": []
  },
  {
   "attachments": {},
   "cell_type": "markdown",
   "id": "d713ad47",
   "metadata": {},
   "source": [
    "### trying out stuff!"
   ]
  },
  {
   "cell_type": "code",
   "execution_count": null,
   "id": "942d4b80",
   "metadata": {},
   "outputs": [],
   "source": [
    "#test forward pass with one sample\n",
    "sample = next(iter(trainloader)) #waveform, sample_rate\n",
    "waveform = sample[0]\n",
    "print(waveform.shape) #batch size, num channels, sample length\n",
    "\n",
    "#only take first channel of sample; indexing is done with 0:1 instead of [0], otherwise shape is not kept the same\n",
    "waveform = waveform[:,0:1,:]"
   ]
  },
  {
   "cell_type": "code",
   "execution_count": null,
   "id": "93d93e06",
   "metadata": {},
   "outputs": [],
   "source": [
    "device = torch.device('cuda' if torch.cuda.is_available() else 'cpu')\n",
    "model = DiffWave(32)\n",
    "model = model.to(device)"
   ]
  },
  {
   "cell_type": "code",
   "execution_count": null,
   "id": "bdec312f",
   "metadata": {},
   "outputs": [],
   "source": []
  },
  {
   "cell_type": "code",
   "execution_count": null,
   "id": "d26504bf",
   "metadata": {},
   "outputs": [],
   "source": [
    "variance_schedule = torch.tensor([0.1,0.2,0.3,0.4,0.5])\n",
    "test_model = DiffWave(64, 5, len(variance_schedule), variance_schedule)"
   ]
  },
  {
   "cell_type": "code",
   "execution_count": null,
   "id": "5b22df2d",
   "metadata": {},
   "outputs": [],
   "source": [
    "test_model"
   ]
  },
  {
   "cell_type": "code",
   "execution_count": null,
   "id": "592cfffa",
   "metadata": {},
   "outputs": [],
   "source": []
  }
 ],
 "metadata": {
  "kernelspec": {
   "display_name": "practical_work",
   "language": "python",
   "name": "python3"
  },
  "language_info": {
   "codemirror_mode": {
    "name": "ipython",
    "version": 3
   },
   "file_extension": ".py",
   "mimetype": "text/x-python",
   "name": "python",
   "nbconvert_exporter": "python",
   "pygments_lexer": "ipython3",
   "version": "3.10.8"
  },
  "vscode": {
   "interpreter": {
    "hash": "8b3bd52304cf4f8503640a78f39433e8f3f957e5a2223726550e53c8c8975ff4"
   }
  }
 },
 "nbformat": 4,
 "nbformat_minor": 5
}
