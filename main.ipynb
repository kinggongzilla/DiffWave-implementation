{
 "cells": [
  {
   "cell_type": "code",
   "execution_count": 1,
   "id": "f2c0d3e7",
   "metadata": {},
   "outputs": [
    {
     "name": "stderr",
     "output_type": "stream",
     "text": [
      "c:\\Users\\hause\\miniconda3\\envs\\practical_work\\lib\\site-packages\\pydub\\utils.py:170: RuntimeWarning: Couldn't find ffmpeg or avconv - defaulting to ffmpeg, but may not work\n",
      "  warn(\"Couldn't find ffmpeg or avconv - defaulting to ffmpeg, but may not work\", RuntimeWarning)\n"
     ]
    }
   ],
   "source": [
    "import os\n",
    "import sys\n",
    "import torch\n",
    "import torch.nn.functional as F\n",
    "from torch.utils.data import Dataset\n",
    "import torchaudio\n",
    "import soundfile\n",
    "import matplotlib.pyplot as plt\n",
    "import numpy as np\n",
    "from pydub import AudioSegment\n",
    "\n",
    "module_path = os.path.abspath(os.path.join('./source/'))\n",
    "if module_path not in sys.path:\n",
    "    sys.path.append(module_path)\n",
    "\n",
    "from model import DiffWave\n",
    "from dataset import ChunkedMusDBHQ\n",
    "from train import train"
   ]
  },
  {
   "cell_type": "code",
   "execution_count": 2,
   "id": "3f986c95",
   "metadata": {},
   "outputs": [],
   "source": [
    "chunked_data = ChunkedMusDBHQ(audio_dir='data/chunked_audio/')\n",
    "\n",
    "trainloader = torch.utils.data.DataLoader(\n",
    "    chunked_data,\n",
    "    batch_size=2,\n",
    "    shuffle=True,\n",
    "    )"
   ]
  },
  {
   "cell_type": "code",
   "execution_count": 3,
   "id": "dfd0755b",
   "metadata": {},
   "outputs": [
    {
     "name": "stdout",
     "output_type": "stream",
     "text": [
      "epoch: 0 | step: 0 | loss: 0.6726873517036438\n",
      "epoch: 0 | step: 5 | loss: 0.6573325395584106\n",
      "epoch: 0 | step: 10 | loss: 0.6505427360534668\n",
      "epoch: 0 | step: 15 | loss: 0.6409654021263123\n",
      "Epoch DONE! epoch: 0 | loss: 0.6655532121658325\n"
     ]
    }
   ],
   "source": [
    "variance_schedule = torch.tensor([0.0001,0.001,0.01,0.05,0.2,0.5]) #torch.linspace(0.1, 0.7, 10)\n",
    "model = train(64, trainloader, 1, len(variance_schedule), variance_schedule)"
   ]
  },
  {
   "cell_type": "code",
   "execution_count": 4,
   "metadata": {},
   "outputs": [],
   "source": [
    "x_t = torch.randn(1, 1, 220500)\n",
    "sample = model.sample(x_t)"
   ]
  },
  {
   "cell_type": "code",
   "execution_count": null,
   "id": "6e27a5fe",
   "metadata": {},
   "outputs": [],
   "source": []
  },
  {
   "cell_type": "code",
   "execution_count": null,
   "id": "b95d5444",
   "metadata": {},
   "outputs": [],
   "source": []
  },
  {
   "cell_type": "code",
   "execution_count": null,
   "id": "e9a5da88",
   "metadata": {},
   "outputs": [],
   "source": []
  },
  {
   "attachments": {},
   "cell_type": "markdown",
   "id": "d713ad47",
   "metadata": {},
   "source": [
    "### trying out stuff!"
   ]
  },
  {
   "cell_type": "code",
   "execution_count": null,
   "id": "942d4b80",
   "metadata": {},
   "outputs": [],
   "source": [
    "#test forward pass with one sample\n",
    "sample = next(iter(trainloader)) #waveform, sample_rate\n",
    "waveform = sample[0]\n",
    "print(waveform.shape) #batch size, num channels, sample length\n",
    "\n",
    "#only take first channel of sample; indexing is done with 0:1 instead of [0], otherwise shape is not kept the same\n",
    "waveform = waveform[:,0:1,:]"
   ]
  },
  {
   "cell_type": "code",
   "execution_count": null,
   "id": "93d93e06",
   "metadata": {},
   "outputs": [],
   "source": [
    "device = torch.device('cuda' if torch.cuda.is_available() else 'cpu')\n",
    "model = DiffWave(32)\n",
    "model = model.to(device)"
   ]
  },
  {
   "cell_type": "code",
   "execution_count": null,
   "id": "a23662c9",
   "metadata": {},
   "outputs": [],
   "source": [
    "y = model.forward(waveform)"
   ]
  },
  {
   "cell_type": "code",
   "execution_count": null,
   "id": "a07554ea",
   "metadata": {},
   "outputs": [],
   "source": [
    "output = y[0].detach()\n",
    "output.shape"
   ]
  },
  {
   "cell_type": "code",
   "execution_count": null,
   "id": "55f2c3d4",
   "metadata": {},
   "outputs": [],
   "source": [
    "path = \"test.wav\"\n",
    "torchaudio.save(path, output, 44100)"
   ]
  }
 ],
 "metadata": {
  "kernelspec": {
   "display_name": "practical_work",
   "language": "python",
   "name": "python3"
  },
  "language_info": {
   "codemirror_mode": {
    "name": "ipython",
    "version": 3
   },
   "file_extension": ".py",
   "mimetype": "text/x-python",
   "name": "python",
   "nbconvert_exporter": "python",
   "pygments_lexer": "ipython3",
   "version": "3.10.8"
  },
  "vscode": {
   "interpreter": {
    "hash": "8b3bd52304cf4f8503640a78f39433e8f3f957e5a2223726550e53c8c8975ff4"
   }
  }
 },
 "nbformat": 4,
 "nbformat_minor": 5
}
